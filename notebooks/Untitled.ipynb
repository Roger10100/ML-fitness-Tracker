{
 "cells": [
  {
   "cell_type": "code",
   "execution_count": 6,
   "id": "8e2322e4-df84-40dd-9cbe-fdf6bb31cc32",
   "metadata": {},
   "outputs": [],
   "source": [
    "import pandas as pd\n",
    "import numpy as np\n",
    "import matplotlib.pyplot as plt"
   ]
  },
  {
   "cell_type": "code",
   "execution_count": 12,
   "id": "9333e7e4-b823-4d98-b7e0-33a91b575535",
   "metadata": {},
   "outputs": [
    {
     "name": "stdout",
     "output_type": "stream",
     "text": [
      "Requirement already satisfied: DataTransformation in /home/ojas-srivastava/anaconda3/lib/python3.11/site-packages (0.1.1)\n",
      "Requirement already satisfied: numpy<2.0.0,>=1.26.4 in /home/ojas-srivastava/anaconda3/lib/python3.11/site-packages (from DataTransformation) (1.26.4)\n",
      "Note: you may need to restart the kernel to use updated packages.\n"
     ]
    }
   ],
   "source": [
    "pip install DataTransformation"
   ]
  },
  {
   "cell_type": "code",
   "execution_count": 16,
   "id": "ef8115f2-caea-4049-8e6e-00d46bb437c5",
   "metadata": {},
   "outputs": [
    {
     "ename": "ModuleNotFoundError",
     "evalue": "No module named 'TemporalAbstraction'",
     "output_type": "error",
     "traceback": [
      "\u001b[0;31m---------------------------------------------------------------------------\u001b[0m",
      "\u001b[0;31mModuleNotFoundError\u001b[0m                       Traceback (most recent call last)",
      "Cell \u001b[0;32mIn[16], line 4\u001b[0m\n\u001b[1;32m      1\u001b[0m \u001b[38;5;66;03m# !pip install Transformations\u001b[39;00m\n\u001b[1;32m      2\u001b[0m \n\u001b[1;32m      3\u001b[0m \u001b[38;5;66;03m# from DataTransformation import LowPassFilter, PrincipalComponentAnalysis\u001b[39;00m\n\u001b[0;32m----> 4\u001b[0m \u001b[38;5;28;01mfrom\u001b[39;00m \u001b[38;5;21;01mTemporalAbstraction\u001b[39;00m \u001b[38;5;28;01mimport\u001b[39;00m NumericalAbstraction\n",
      "\u001b[0;31mModuleNotFoundError\u001b[0m: No module named 'TemporalAbstraction'"
     ]
    }
   ],
   "source": [
    "# !pip install Transformations\n",
    "\n",
    "from DataTransformation import LowPassFilter, PrincipalComponentAnalysis\n",
    "from TemporalAbstraction import NumericalAbstraction"
   ]
  },
  {
   "cell_type": "code",
   "execution_count": null,
   "id": "0973df3f-aa8b-49ba-8a98-fc9c20591d28",
   "metadata": {},
   "outputs": [
    {
     "name": "stdout",
     "output_type": "stream",
     "text": [
      "Requirement already satisfied: scikit-learn in /home/ojas-srivastava/anaconda3/lib/python3.11/site-packages (1.2.2)\n",
      "Requirement already satisfied: numpy>=1.17.3 in /home/ojas-srivastava/anaconda3/lib/python3.11/site-packages (from scikit-learn) (1.26.4)\n",
      "Requirement already satisfied: scipy>=1.3.2 in /home/ojas-srivastava/anaconda3/lib/python3.11/site-packages (from scikit-learn) (1.11.4)\n",
      "Requirement already satisfied: joblib>=1.1.1 in /home/ojas-srivastava/anaconda3/lib/python3.11/site-packages (from scikit-learn) (1.2.0)\n",
      "Requirement already satisfied: threadpoolctl>=2.0.0 in /home/ojas-srivastava/anaconda3/lib/python3.11/site-packages (from scikit-learn) (2.2.0)\n",
      "Requirement already satisfied: numpy in /home/ojas-srivastava/anaconda3/lib/python3.11/site-packages (1.26.4)\n"
     ]
    }
   ],
   "source": [
    "# --------------------------------------------------------------\n",
    "# Load data\n",
    "# --------------------------------------------------------------\n",
    "# df= pd.read_\n",
    "!pip install scikit-learn\n",
    "!pip install numpy\n",
    "!pip install tslearn\n"
   ]
  },
  {
   "cell_type": "code",
   "execution_count": null,
   "id": "aa96bd03-7536-4f4f-b035-b009cfef9f2b",
   "metadata": {},
   "outputs": [],
   "source": [
    "# --------------------------------------------------------------\n",
    "# Dealing with missing values (imputation)\n",
    "# --------------------------------------------------------------"
   ]
  },
  {
   "cell_type": "code",
   "execution_count": null,
   "id": "2d8dbcc8-d76a-4d6f-94e8-0615215d198b",
   "metadata": {},
   "outputs": [],
   "source": [
    "# --------------------------------------------------------------\n",
    "# Calculating set duration\n",
    "# --------------------------------------------------------------"
   ]
  },
  {
   "cell_type": "code",
   "execution_count": null,
   "id": "3f69e722-144c-4bbc-9ebf-dba4ea7befe2",
   "metadata": {},
   "outputs": [],
   "source": [
    "# --------------------------------------------------------------\n",
    "# Butterworth lowpass filter\n",
    "# --------------------------------------------------------------"
   ]
  },
  {
   "cell_type": "code",
   "execution_count": null,
   "id": "264ed2cd-f199-4506-a780-6cf31f3f07d4",
   "metadata": {},
   "outputs": [],
   "source": [
    "# --------------------------------------------------------------\n",
    "# Principal component analysis PCA\n",
    "# --------------------------------------------------------------"
   ]
  },
  {
   "cell_type": "code",
   "execution_count": null,
   "id": "74eb7d0a-d1af-47f7-b4ab-909161d34351",
   "metadata": {},
   "outputs": [],
   "source": [
    "# --------------------------------------------------------------\n",
    "# Sum of squares attributes\n",
    "# --------------------------------------------------------------"
   ]
  },
  {
   "cell_type": "code",
   "execution_count": null,
   "id": "169a3a01-c595-4bd1-811f-33ca1771ae08",
   "metadata": {},
   "outputs": [],
   "source": [
    "# --------------------------------------------------------------\n",
    "# Temporal abstraction\n",
    "# --------------------------------------------------------------"
   ]
  },
  {
   "cell_type": "code",
   "execution_count": null,
   "id": "5e1189b6-095c-42ca-8631-9144cf588480",
   "metadata": {},
   "outputs": [],
   "source": [
    "# --------------------------------------------------------------\n",
    "# Frequency features\n",
    "# --------------------------------------------------------------"
   ]
  },
  {
   "cell_type": "code",
   "execution_count": null,
   "id": "01811726-28c1-421b-a876-9537472903ed",
   "metadata": {},
   "outputs": [],
   "source": [
    "# --------------------------------------------------------------\n",
    "# Dealing with overlapping windows\n",
    "# --------------------------------------------------------------"
   ]
  },
  {
   "cell_type": "code",
   "execution_count": null,
   "id": "6516433f-a5a2-48e5-a401-409f0f5899ce",
   "metadata": {},
   "outputs": [],
   "source": [
    "# --------------------------------------------------------------\n",
    "# Clustering\n",
    "# --------------------------------------------------------------"
   ]
  },
  {
   "cell_type": "code",
   "execution_count": null,
   "id": "13a5166e-c05e-4e45-bca9-f63a1935dbf8",
   "metadata": {},
   "outputs": [],
   "source": [
    "# --------------------------------------------------------------\n",
    "# Export dataset\n",
    "# -------------------------------------------------------------"
   ]
  }
 ],
 "metadata": {
  "kernelspec": {
   "display_name": "Python 3 (ipykernel)",
   "language": "python",
   "name": "python3"
  },
  "language_info": {
   "codemirror_mode": {
    "name": "ipython",
    "version": 3
   },
   "file_extension": ".py",
   "mimetype": "text/x-python",
   "name": "python",
   "nbconvert_exporter": "python",
   "pygments_lexer": "ipython3",
   "version": "3.11.7"
  }
 },
 "nbformat": 4,
 "nbformat_minor": 5
}
