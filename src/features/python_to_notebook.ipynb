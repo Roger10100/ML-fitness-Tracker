{
 "cells": [
  {
   "cell_type": "code",
   "execution_count": 9,
   "id": "f437557a-35ce-4276-b3df-d7534471b524",
   "metadata": {},
   "outputs": [
    {
     "name": "stdout",
     "output_type": "stream",
     "text": [
      "[jupytext] Reading build_features.py in format py\n",
      "[jupytext] Writing build_features.ipynb\n"
     ]
    }
   ],
   "source": [
    "# %pip install jupytext\n",
    "!jupytext --to notebook build_features.py"
   ]
  }
 ],
 "metadata": {
  "kernelspec": {
   "display_name": "Python 3 (ipykernel)",
   "language": "python",
   "name": "python3"
  },
  "language_info": {
   "codemirror_mode": {
    "name": "ipython",
    "version": 3
   },
   "file_extension": ".py",
   "mimetype": "text/x-python",
   "name": "python",
   "nbconvert_exporter": "python",
   "pygments_lexer": "ipython3",
   "version": "3.11.7"
  }
 },
 "nbformat": 4,
 "nbformat_minor": 5
}
